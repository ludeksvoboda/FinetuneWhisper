{
 "cells": [
  {
   "cell_type": "code",
   "execution_count": 1,
   "metadata": {},
   "outputs": [
    {
     "data": {
      "text/plain": [
       "<All keys matched successfully>"
      ]
     },
     "execution_count": 1,
     "metadata": {},
     "output_type": "execute_result"
    }
   ],
   "source": [
    "import whisper\n",
    "import torch\n",
    "\n",
    "model = whisper.load_model(\"tiny\")\n",
    "checkpoint = torch.load('/home/lu/Models/checkpoints/FinetuneWhisper/tiny/comvoice_subset_sparse_final(13).tar')\n",
    "model.load_state_dict(checkpoint['model_state_dict'])"
   ]
  },
  {
   "cell_type": "code",
   "execution_count": 4,
   "metadata": {},
   "outputs": [],
   "source": [
    "from sparseml.pytorch.utils import tensor_sparsity, get_prunable_layers"
   ]
  },
  {
   "cell_type": "code",
   "execution_count": 5,
   "metadata": {},
   "outputs": [
    {
     "name": "stdout",
     "output_type": "stream",
     "text": [
      "encoder.conv1.weight: 0.8463\n",
      "encoder.conv2.weight: 0.9249\n",
      "encoder.blocks.0.attn.query.weight: 0.9443\n",
      "encoder.blocks.0.attn.key.weight: 0.9388\n",
      "encoder.blocks.0.attn.value.weight: 0.9345\n",
      "encoder.blocks.0.attn.out.weight: 0.9194\n",
      "encoder.blocks.0.mlp.0.weight: 0.9573\n",
      "encoder.blocks.0.mlp.2.weight: 0.9575\n",
      "encoder.blocks.1.attn.query.weight: 0.9390\n",
      "encoder.blocks.1.attn.key.weight: 0.9469\n",
      "encoder.blocks.1.attn.value.weight: 0.9629\n",
      "encoder.blocks.1.attn.out.weight: 0.9668\n",
      "encoder.blocks.1.mlp.0.weight: 0.9604\n",
      "encoder.blocks.1.mlp.2.weight: 0.9397\n",
      "encoder.blocks.2.attn.query.weight: 0.9517\n",
      "encoder.blocks.2.attn.key.weight: 0.9636\n",
      "encoder.blocks.2.attn.value.weight: 0.9406\n",
      "encoder.blocks.2.attn.out.weight: 0.9595\n",
      "encoder.blocks.2.mlp.0.weight: 0.9539\n",
      "encoder.blocks.2.mlp.2.weight: 0.9140\n",
      "encoder.blocks.3.attn.query.weight: 0.9583\n",
      "encoder.blocks.3.attn.key.weight: 0.9617\n",
      "encoder.blocks.3.attn.value.weight: 0.9348\n",
      "encoder.blocks.3.attn.out.weight: 0.9511\n",
      "encoder.blocks.3.mlp.0.weight: 0.9276\n",
      "encoder.blocks.3.mlp.2.weight: 0.8842\n",
      "decoder.blocks.0.attn.query.weight: 0.7205\n",
      "decoder.blocks.0.attn.key.weight: 0.7261\n",
      "decoder.blocks.0.attn.value.weight: 0.8596\n",
      "decoder.blocks.0.attn.out.weight: 0.8621\n",
      "decoder.blocks.0.cross_attn.query.weight: 0.8917\n",
      "decoder.blocks.0.cross_attn.key.weight: 0.8877\n",
      "decoder.blocks.0.cross_attn.value.weight: 0.9728\n",
      "decoder.blocks.0.cross_attn.out.weight: 0.9862\n",
      "decoder.blocks.0.mlp.0.weight: 0.8589\n",
      "decoder.blocks.0.mlp.2.weight: 0.9045\n",
      "decoder.blocks.1.attn.query.weight: 0.8253\n",
      "decoder.blocks.1.attn.key.weight: 0.8344\n",
      "decoder.blocks.1.attn.value.weight: 0.9119\n",
      "decoder.blocks.1.attn.out.weight: 0.9176\n",
      "decoder.blocks.1.cross_attn.query.weight: 0.8541\n",
      "decoder.blocks.1.cross_attn.key.weight: 0.8575\n",
      "decoder.blocks.1.cross_attn.value.weight: 0.9372\n",
      "decoder.blocks.1.cross_attn.out.weight: 0.9641\n",
      "decoder.blocks.1.mlp.0.weight: 0.8834\n",
      "decoder.blocks.1.mlp.2.weight: 0.9147\n",
      "decoder.blocks.2.attn.query.weight: 0.8152\n",
      "decoder.blocks.2.attn.key.weight: 0.8223\n",
      "decoder.blocks.2.attn.value.weight: 0.8790\n",
      "decoder.blocks.2.attn.out.weight: 0.8924\n",
      "decoder.blocks.2.cross_attn.query.weight: 0.8381\n",
      "decoder.blocks.2.cross_attn.key.weight: 0.8596\n",
      "decoder.blocks.2.cross_attn.value.weight: 0.8935\n",
      "decoder.blocks.2.cross_attn.out.weight: 0.9227\n",
      "decoder.blocks.2.mlp.0.weight: 0.8729\n",
      "decoder.blocks.2.mlp.2.weight: 0.9093\n",
      "decoder.blocks.3.attn.query.weight: 0.8594\n",
      "decoder.blocks.3.attn.key.weight: 0.8637\n",
      "decoder.blocks.3.attn.value.weight: 0.8560\n",
      "decoder.blocks.3.attn.out.weight: 0.8704\n",
      "decoder.blocks.3.cross_attn.query.weight: 0.8069\n",
      "decoder.blocks.3.cross_attn.key.weight: 0.8331\n",
      "decoder.blocks.3.cross_attn.value.weight: 0.6965\n",
      "decoder.blocks.3.cross_attn.out.weight: 0.7816\n",
      "decoder.blocks.3.mlp.0.weight: 0.8354\n",
      "decoder.blocks.3.mlp.2.weight: 0.8477\n"
     ]
    }
   ],
   "source": [
    "for (name, layer) in get_prunable_layers(model):\n",
    "    print(f\"{name}.weight: {tensor_sparsity(layer.weight).item():.4f}\")"
   ]
  }
 ],
 "metadata": {
  "kernelspec": {
   "display_name": "FinetuneWhisper",
   "language": "python",
   "name": "python3"
  },
  "language_info": {
   "codemirror_mode": {
    "name": "ipython",
    "version": 3
   },
   "file_extension": ".py",
   "mimetype": "text/x-python",
   "name": "python",
   "nbconvert_exporter": "python",
   "pygments_lexer": "ipython3",
   "version": "3.10.12"
  },
  "orig_nbformat": 4
 },
 "nbformat": 4,
 "nbformat_minor": 2
}
